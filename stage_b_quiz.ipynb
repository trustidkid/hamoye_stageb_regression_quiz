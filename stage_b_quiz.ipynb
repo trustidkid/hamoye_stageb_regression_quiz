{
 "cells": [
  {
   "cell_type": "markdown",
   "id": "a5f0a058",
   "metadata": {},
   "source": [
    "# Name: Semiu Biliaminu\n",
    "ID: 146a489af0c1f000"
   ]
  },
  {
   "cell_type": "code",
   "execution_count": null,
   "id": "dc494541",
   "metadata": {},
   "outputs": [],
   "source": [
    "import pandas as pd\n",
    "import numpy as np\n",
    "import seaborn as sns\n",
    "\n",
    "df = pd.read_csv('energydata.csv')"
   ]
  },
  {
   "cell_type": "markdown",
   "id": "f1781377",
   "metadata": {},
   "source": [
    "Question 1\n",
    "The percent of the total variation of the dependent variable Y explained by the set of independent variables X is measured by\n",
    "\n",
    "ANSwer: Coeffient of Determination"
   ]
  },
  {
   "cell_type": "code",
   "execution_count": null,
   "id": "533b8f31",
   "metadata": {},
   "outputs": [],
   "source": [
    "Question 2\n",
    "How do you define a Residual?\n",
    "\n",
    "ANswer: Y - Y"
   ]
  },
  {
   "cell_type": "code",
   "execution_count": null,
   "id": "c705f3bc",
   "metadata": {},
   "outputs": [],
   "source": [
    "Question 3\n",
    "The straight line graph of the equation Y = a + BX, the slope is horizontal if\n",
    "\n",
    "ANswer: b=0"
   ]
  },
  {
   "cell_type": "code",
   "execution_count": null,
   "id": "0ca7a049",
   "metadata": {},
   "outputs": [],
   "source": [
    "Question 4\n",
    "Which of the one is true about Heteroskedasticity?\n",
    "\n",
    "Answwr: Linear Regression with varying error terms"
   ]
  },
  {
   "cell_type": "code",
   "execution_count": null,
   "id": "ff87b504",
   "metadata": {},
   "outputs": [],
   "source": [
    "Question 5\n",
    "Generally, which of the following method(s) is used for predicting continuous dependent variables?\n",
    "1. Linear Regression\n",
    "\n",
    "2. Logistic Regression\n",
    "\n",
    "Answer: 1 only"
   ]
  },
  {
   "cell_type": "code",
   "execution_count": null,
   "id": "81ea6560",
   "metadata": {},
   "outputs": [],
   "source": [
    "Question 6\n",
    "From the following options below, which of these is/are true about “Ridge” or “Lasso” regression methods in case of feature selection?\n",
    "\n",
    "Answer: Lasso Regresssion uses subset selection of features"
   ]
  },
  {
   "cell_type": "code",
   "execution_count": null,
   "id": "7586bd70",
   "metadata": {},
   "outputs": [],
   "source": [
    "Question 7\n",
    "Which of the following sentences is/are true about outliers in Linear Regression:\n",
    "\n",
    "    Answer: Linear Regression is sensitive to outliers"
   ]
  },
  {
   "cell_type": "code",
   "execution_count": null,
   "id": "58a811a9",
   "metadata": {},
   "outputs": [],
   "source": [
    "Question 8\n",
    "Which of the following metrics can be used for evaluating regression models?\n",
    "\n",
    "1. R Squared\n",
    "\n",
    "2. Adjusted R Squared\n",
    "\n",
    "3. F Statistics\n",
    "\n",
    "4. RMSE / MSE / MAE\n",
    "\n",
    "Answer: 1,2,3,4"
   ]
  },
  {
   "cell_type": "code",
   "execution_count": null,
   "id": "eac70e43",
   "metadata": {},
   "outputs": [],
   "source": [
    "Question 9\n",
    "A best fit line relating X and Y has a R-Squared value of 0.75. How do I interpret this information?\n",
    "\n",
    "Answer: 75% of the variance in Y is explained by X"
   ]
  },
  {
   "cell_type": "code",
   "execution_count": null,
   "id": "e5f6e444",
   "metadata": {},
   "outputs": [],
   "source": [
    "Question 10\n",
    "Which of the following measures is optimal for comparing the goodness of the fit of competing\n",
    "regression models involving the same dependent variable?\n",
    "\n",
    "answer: R-Squared"
   ]
  },
  {
   "cell_type": "code",
   "execution_count": null,
   "id": "b872599f",
   "metadata": {},
   "outputs": [],
   "source": [
    "Question 11\n",
    "The Lasso can be interpreted as least-squares linear regression where\n",
    "\n",
    "Asnwer: Weights are regularized with L1 norm"
   ]
  },
  {
   "cell_type": "markdown",
   "id": "fc53698f",
   "metadata": {},
   "source": [
    "Question 12\n",
    "From the dataset, fit a linear model on the relationship between the temperature in the living room \n",
    "in Celsius (x = T2) and the temperature\n",
    "outside the building (y = T6). What is the R^2 value in two d.p.?\n",
    "\n",
    "Answer: 0.025"
   ]
  },
  {
   "cell_type": "code",
   "execution_count": 270,
   "id": "300cdc3d",
   "metadata": {},
   "outputs": [
    {
     "data": {
      "text/plain": [
       "0.025"
      ]
     },
     "execution_count": 270,
     "metadata": {},
     "output_type": "execute_result"
    }
   ],
   "source": [
    "from sklearn.preprocessing import MinMaxScaler\n",
    "from sklearn.linear_model import LinearRegression\n",
    "scaler = MinMaxScaler()\n",
    "normalised_df = pd.DataFrame(scaler.fit_transform(df), columns=df.columns)\n",
    "features_df = normalised_df.drop(columns=['T2','T6'])\n",
    "appliance_target = normalised_df['T6']\n",
    "\n",
    "#Now, we split our dataset into the training and testing dataset. Recall that we\n",
    "#had earlier segmented the features and target variables.\n",
    "\n",
    "from sklearn.model_selection import train_test_split\n",
    "x_train, x_test, y_train, y_test = train_test_split(features_df, appliance_target,test_size=0.3, random_state=42)\n",
    "linear_model = LinearRegression()\n",
    "\n",
    "#fit the model to the training dataset\n",
    "linear_model.fit(x_train, y_train)\n",
    "\n",
    "#obtain predictions\n",
    "predicted_values = linear_model.predict(x_test)\n",
    "\n",
    "#MAE\n",
    "from sklearn.metrics import mean_absolute_error\n",
    "mae = mean_absolute_error(y_test, predicted_values)\n",
    "round(mae, 3)\n",
    "\n",
    "#regression plot\n",
    "# sns.regplot(x=\"T2\", y=\"T6\", data=simple_linear_reg_df)"
   ]
  },
  {
   "cell_type": "code",
   "execution_count": 271,
   "id": "4b684050",
   "metadata": {},
   "outputs": [
    {
     "data": {
      "text/plain": [
       "0.966"
      ]
     },
     "execution_count": 271,
     "metadata": {},
     "output_type": "execute_result"
    }
   ],
   "source": [
    "from sklearn.metrics import r2_score\n",
    "\n",
    "r2_score = r2_score(y_test, predicted_values )\n",
    "round(r2_score,3)"
   ]
  },
  {
   "cell_type": "code",
   "execution_count": null,
   "id": "74a88eca",
   "metadata": {},
   "outputs": [],
   "source": [
    "column_names = {\n",
    "    \"Date\":\"Date\",\"Appliances\":\"Appliances\", \"T1\":\"Temperature\",\"RH_1\":\"Humidity in kitchen\", \"T2\":\"Temp in living room\",\n",
    "    \"RH_2\":\"Humidity in living\", \"T3\":\"Temp in laundry\", \"RH_3\":\"Humidity in laundry\", \"T4\": \"Temp in office\",\n",
    "    \"RH_4\":\"Humidity in office\",\"T5\":\"Temp in bathroom\",\"RH_5\":\"Humidity in bathroom\", \"T6\":\"Temp outside\",\n",
    "    \"RH_6\":\"Humidity outside\", \"T7\":\"Temp in ironing room\", \"RH_7\": \"Humidity in ironing room\", \"T8\":\"Temp in teenager\",\n",
    "    \"RH_8\":\"Humidity in teenager\",\"T9\":\"Temp in parents\",\"RH_9\":\"Humidity in parents\",\"T_out\":\"Temp outside\",\n",
    "    \"Press_mm_bg\":\"Pressure fm Chievres weather station\",\"RH_out\":\"Humidity outside\",\"Windspeed\":\"Windspeed\",\n",
    "    \"Visibility\":\"Visibility\",\"Tdewpoint\":\"Tdewpoint\",\"rv1\":\"Random Variable 1\", \"rv2\":\"Random Variable 2\"}"
   ]
  },
  {
   "cell_type": "markdown",
   "id": "b47091c2",
   "metadata": {},
   "source": [
    "Question 13\n",
    "Normalize the dataset using the MinMaxScaler after removing the \n",
    "following columns: [“date”, “lights”]. The target variable is “Appliances”\n",
    "Use a 70-30 train-test set split with a random state of 42 (for reproducibility)\n",
    "Run a multiple linear regression using the training set and evaluate your model \n",
    "on the test set. Answer the following questions:\n",
    "\n",
    "What is the Mean Absolute Error (in two decimal places)?\n",
    "\n",
    "Answer: 0.05"
   ]
  },
  {
   "cell_type": "code",
   "execution_count": 203,
   "id": "be05ac62",
   "metadata": {},
   "outputs": [
    {
     "data": {
      "text/plain": [
       "0.05"
      ]
     },
     "execution_count": 203,
     "metadata": {},
     "output_type": "execute_result"
    }
   ],
   "source": [
    "from sklearn.preprocessing import MinMaxScaler\n",
    "from sklearn.linear_model import LinearRegression\n",
    "scaler = MinMaxScaler()\n",
    "normalised_df = pd.DataFrame(scaler.fit_transform(df), columns=df.columns)\n",
    "features_df = normalised_df.drop(columns=['Appliances'])\n",
    "appliance_target = normalised_df['Appliances']\n",
    "\n",
    "#Now, we split our dataset into the training and testing dataset. Recall that we\n",
    "#had earlier segmented the features and target variables.\n",
    "\n",
    "from sklearn.model_selection import train_test_split\n",
    "x_train, x_test, y_train, y_test = train_test_split(features_df, appliance_target,test_size=0.3, random_state=42)\n",
    "linear_model = LinearRegression()\n",
    "\n",
    "#fit the model to the training dataset\n",
    "linear_model.fit(x_train, y_train)\n",
    "\n",
    "#obtain predictions\n",
    "predicted_values = linear_model.predict(x_test)\n",
    "\n",
    "#MAE\n",
    "from sklearn.metrics import mean_absolute_error\n",
    "mae = mean_absolute_error(y_test, predicted_values)\n",
    "round(mae, 3)"
   ]
  },
  {
   "cell_type": "code",
   "execution_count": null,
   "id": "077c2274",
   "metadata": {},
   "outputs": [],
   "source": [
    "Question 14\n",
    "What is the Residual Sum of Squares (in two decimal places)?\n",
    "\n",
    "Answer: 6.35"
   ]
  },
  {
   "cell_type": "code",
   "execution_count": 275,
   "id": "30ab37f7",
   "metadata": {},
   "outputs": [
    {
     "data": {
      "text/plain": [
       "6.35"
      ]
     },
     "execution_count": 275,
     "metadata": {},
     "output_type": "execute_result"
    }
   ],
   "source": [
    "# Residual Sum of Squares (RSS)\n",
    "import numpy as np\n",
    "rss = np.sum(np.square(y_test - predicted_values))\n",
    "round(rss, 3)\n"
   ]
  },
  {
   "cell_type": "code",
   "execution_count": null,
   "id": "16d81227",
   "metadata": {},
   "outputs": [],
   "source": [
    "Question 15\n",
    "What is the Root Mean Squared Error (in three decimal places)?\n",
    "\n",
    "Answer: 0.033\n"
   ]
  },
  {
   "cell_type": "code",
   "execution_count": 284,
   "id": "98a2f164",
   "metadata": {},
   "outputs": [
    {
     "data": {
      "text/plain": [
       "0.033"
      ]
     },
     "execution_count": 284,
     "metadata": {},
     "output_type": "execute_result"
    }
   ],
   "source": [
    "#Root Mean Square Error (RMSE)\n",
    "from sklearn.metrics import mean_squared_error\n",
    "rmse = np.sqrt(mean_squared_error(y_test, predicted_values))\n",
    "round(rmse, 3) "
   ]
  },
  {
   "cell_type": "code",
   "execution_count": null,
   "id": "17bd4e97",
   "metadata": {},
   "outputs": [],
   "source": [
    "Question 16\n",
    "What is the Coefficient of Determination (in two decimal places)?\n",
    "\n",
    "Answer: "
   ]
  },
  {
   "cell_type": "code",
   "execution_count": null,
   "id": "82f28b11",
   "metadata": {},
   "outputs": [],
   "source": [
    "Question 17\n",
    "Obtain the feature weights from your linear model above. \n",
    "Which features have the lowest and highest weights respectively?\n",
    "\n",
    "Answer: T_out and RH_2"
   ]
  },
  {
   "cell_type": "code",
   "execution_count": 286,
   "id": "3c8019d0",
   "metadata": {},
   "outputs": [
    {
     "data": {
      "text/html": [
       "<div>\n",
       "<style scoped>\n",
       "    .dataframe tbody tr th:only-of-type {\n",
       "        vertical-align: middle;\n",
       "    }\n",
       "\n",
       "    .dataframe tbody tr th {\n",
       "        vertical-align: top;\n",
       "    }\n",
       "\n",
       "    .dataframe thead th {\n",
       "        text-align: right;\n",
       "    }\n",
       "</style>\n",
       "<table border=\"1\" class=\"dataframe\">\n",
       "  <thead>\n",
       "    <tr style=\"text-align: right;\">\n",
       "      <th></th>\n",
       "      <th>Features</th>\n",
       "      <th>Linear_Model_Weight</th>\n",
       "      <th>Ridge_Weight</th>\n",
       "      <th>Lasso_weight</th>\n",
       "    </tr>\n",
       "  </thead>\n",
       "  <tbody>\n",
       "    <tr>\n",
       "      <th>0</th>\n",
       "      <td>RH_2</td>\n",
       "      <td>-0.250946</td>\n",
       "      <td>-0.252892</td>\n",
       "      <td>-0.000000</td>\n",
       "    </tr>\n",
       "    <tr>\n",
       "      <th>1</th>\n",
       "      <td>RH_6</td>\n",
       "      <td>-0.104601</td>\n",
       "      <td>-0.101913</td>\n",
       "      <td>-0.057934</td>\n",
       "    </tr>\n",
       "    <tr>\n",
       "      <th>2</th>\n",
       "      <td>Tdewpoint</td>\n",
       "      <td>-0.081804</td>\n",
       "      <td>0.002123</td>\n",
       "      <td>0.036708</td>\n",
       "    </tr>\n",
       "    <tr>\n",
       "      <th>3</th>\n",
       "      <td>T5</td>\n",
       "      <td>-0.069237</td>\n",
       "      <td>-0.064881</td>\n",
       "      <td>-0.000000</td>\n",
       "    </tr>\n",
       "    <tr>\n",
       "      <th>4</th>\n",
       "      <td>T7</td>\n",
       "      <td>-0.068751</td>\n",
       "      <td>-0.067050</td>\n",
       "      <td>-0.000000</td>\n",
       "    </tr>\n",
       "    <tr>\n",
       "      <th>5</th>\n",
       "      <td>RH_8</td>\n",
       "      <td>-0.062947</td>\n",
       "      <td>-0.060394</td>\n",
       "      <td>0.000000</td>\n",
       "    </tr>\n",
       "    <tr>\n",
       "      <th>6</th>\n",
       "      <td>T8</td>\n",
       "      <td>-0.052642</td>\n",
       "      <td>-0.054581</td>\n",
       "      <td>-0.000000</td>\n",
       "    </tr>\n",
       "    <tr>\n",
       "      <th>7</th>\n",
       "      <td>RH_3</td>\n",
       "      <td>-0.049155</td>\n",
       "      <td>-0.046900</td>\n",
       "      <td>0.000000</td>\n",
       "    </tr>\n",
       "    <tr>\n",
       "      <th>8</th>\n",
       "      <td>T1</td>\n",
       "      <td>-0.046007</td>\n",
       "      <td>-0.045221</td>\n",
       "      <td>-0.000000</td>\n",
       "    </tr>\n",
       "    <tr>\n",
       "      <th>9</th>\n",
       "      <td>Press_mm_hg</td>\n",
       "      <td>-0.022054</td>\n",
       "      <td>-0.023033</td>\n",
       "      <td>-0.000000</td>\n",
       "    </tr>\n",
       "    <tr>\n",
       "      <th>10</th>\n",
       "      <td>Windspeed</td>\n",
       "      <td>-0.007684</td>\n",
       "      <td>-0.010099</td>\n",
       "      <td>0.000000</td>\n",
       "    </tr>\n",
       "    <tr>\n",
       "      <th>11</th>\n",
       "      <td>rv2</td>\n",
       "      <td>-0.000093</td>\n",
       "      <td>-0.000080</td>\n",
       "      <td>-0.000000</td>\n",
       "    </tr>\n",
       "    <tr>\n",
       "      <th>12</th>\n",
       "      <td>rv1</td>\n",
       "      <td>-0.000093</td>\n",
       "      <td>-0.000080</td>\n",
       "      <td>-0.000000</td>\n",
       "    </tr>\n",
       "    <tr>\n",
       "      <th>13</th>\n",
       "      <td>Visibility</td>\n",
       "      <td>0.000284</td>\n",
       "      <td>0.000804</td>\n",
       "      <td>-0.000000</td>\n",
       "    </tr>\n",
       "    <tr>\n",
       "      <th>14</th>\n",
       "      <td>RH_5</td>\n",
       "      <td>0.000432</td>\n",
       "      <td>-0.000714</td>\n",
       "      <td>-0.000000</td>\n",
       "    </tr>\n",
       "    <tr>\n",
       "      <th>15</th>\n",
       "      <td>T4</td>\n",
       "      <td>0.002562</td>\n",
       "      <td>0.002404</td>\n",
       "      <td>-0.000000</td>\n",
       "    </tr>\n",
       "    <tr>\n",
       "      <th>16</th>\n",
       "      <td>T3</td>\n",
       "      <td>0.011040</td>\n",
       "      <td>0.011747</td>\n",
       "      <td>0.000000</td>\n",
       "    </tr>\n",
       "    <tr>\n",
       "      <th>17</th>\n",
       "      <td>RH_9</td>\n",
       "      <td>0.018099</td>\n",
       "      <td>0.018956</td>\n",
       "      <td>0.000000</td>\n",
       "    </tr>\n",
       "    <tr>\n",
       "      <th>18</th>\n",
       "      <td>Appliances</td>\n",
       "      <td>0.021276</td>\n",
       "      <td>0.021339</td>\n",
       "      <td>0.000000</td>\n",
       "    </tr>\n",
       "    <tr>\n",
       "      <th>19</th>\n",
       "      <td>RH_7</td>\n",
       "      <td>0.025800</td>\n",
       "      <td>0.024515</td>\n",
       "      <td>0.000000</td>\n",
       "    </tr>\n",
       "    <tr>\n",
       "      <th>20</th>\n",
       "      <td>RH_4</td>\n",
       "      <td>0.095667</td>\n",
       "      <td>0.094732</td>\n",
       "      <td>0.000000</td>\n",
       "    </tr>\n",
       "    <tr>\n",
       "      <th>21</th>\n",
       "      <td>T9</td>\n",
       "      <td>0.135791</td>\n",
       "      <td>0.133069</td>\n",
       "      <td>0.000000</td>\n",
       "    </tr>\n",
       "    <tr>\n",
       "      <th>22</th>\n",
       "      <td>RH_out</td>\n",
       "      <td>0.146041</td>\n",
       "      <td>0.085812</td>\n",
       "      <td>-0.000000</td>\n",
       "    </tr>\n",
       "    <tr>\n",
       "      <th>23</th>\n",
       "      <td>RH_1</td>\n",
       "      <td>0.195517</td>\n",
       "      <td>0.186066</td>\n",
       "      <td>0.000000</td>\n",
       "    </tr>\n",
       "    <tr>\n",
       "      <th>24</th>\n",
       "      <td>T_out</td>\n",
       "      <td>1.020669</td>\n",
       "      <td>0.910160</td>\n",
       "      <td>0.875838</td>\n",
       "    </tr>\n",
       "  </tbody>\n",
       "</table>\n",
       "</div>"
      ],
      "text/plain": [
       "       Features  Linear_Model_Weight  Ridge_Weight  Lasso_weight\n",
       "0          RH_2            -0.250946     -0.252892     -0.000000\n",
       "1          RH_6            -0.104601     -0.101913     -0.057934\n",
       "2     Tdewpoint            -0.081804      0.002123      0.036708\n",
       "3            T5            -0.069237     -0.064881     -0.000000\n",
       "4            T7            -0.068751     -0.067050     -0.000000\n",
       "5          RH_8            -0.062947     -0.060394      0.000000\n",
       "6            T8            -0.052642     -0.054581     -0.000000\n",
       "7          RH_3            -0.049155     -0.046900      0.000000\n",
       "8            T1            -0.046007     -0.045221     -0.000000\n",
       "9   Press_mm_hg            -0.022054     -0.023033     -0.000000\n",
       "10    Windspeed            -0.007684     -0.010099      0.000000\n",
       "11          rv2            -0.000093     -0.000080     -0.000000\n",
       "12          rv1            -0.000093     -0.000080     -0.000000\n",
       "13   Visibility             0.000284      0.000804     -0.000000\n",
       "14         RH_5             0.000432     -0.000714     -0.000000\n",
       "15           T4             0.002562      0.002404     -0.000000\n",
       "16           T3             0.011040      0.011747      0.000000\n",
       "17         RH_9             0.018099      0.018956      0.000000\n",
       "18   Appliances             0.021276      0.021339      0.000000\n",
       "19         RH_7             0.025800      0.024515      0.000000\n",
       "20         RH_4             0.095667      0.094732      0.000000\n",
       "21           T9             0.135791      0.133069      0.000000\n",
       "22       RH_out             0.146041      0.085812     -0.000000\n",
       "23         RH_1             0.195517      0.186066      0.000000\n",
       "24        T_out             1.020669      0.910160      0.875838"
      ]
     },
     "execution_count": 286,
     "metadata": {},
     "output_type": "execute_result"
    }
   ],
   "source": [
    "def get_weights_df(model, feat, col_name):\n",
    "#this function returns the weight of every feature\n",
    "    weights = pd.Series(model.coef_, feat.columns).sort_values()\n",
    "    weights_df = pd.DataFrame(weights).reset_index()\n",
    "    weights_df.columns = ['Features', col_name]\n",
    "    weights_df[col_name].round(3)\n",
    "    return weights_df\n",
    "\n",
    "linear_model_weights = get_weights_df(linear_model, x_train, 'Linear_Model_Weight')\n",
    "ridge_weights_df = get_weights_df(ridge_reg, x_train, 'Ridge_Weight')\n",
    "lasso_weights_df = get_weights_df(lasso_reg, x_train, 'Lasso_weight')\n",
    "final_weights = pd.merge(linear_model_weights, ridge_weights_df, on='Features')\n",
    "final_weights = pd.merge(final_weights, lasso_weights_df, on='Features')\n",
    "final_weights"
   ]
  },
  {
   "cell_type": "code",
   "execution_count": null,
   "id": "8f10e83e",
   "metadata": {},
   "outputs": [],
   "source": [
    "Question 18\n",
    "Train a ridge regression model with an alpha value of 0.4. \n",
    "Is there any change to the root mean squared error (RMSE) when evaluated on the test set?\n",
    "\n",
    "Answer: No"
   ]
  },
  {
   "cell_type": "code",
   "execution_count": 287,
   "id": "f9ea82c4",
   "metadata": {},
   "outputs": [
    {
     "data": {
      "text/plain": [
       "0.03274811271511946"
      ]
     },
     "execution_count": 287,
     "metadata": {},
     "output_type": "execute_result"
    }
   ],
   "source": [
    "rmse"
   ]
  },
  {
   "cell_type": "code",
   "execution_count": 285,
   "id": "bb6af46a",
   "metadata": {},
   "outputs": [
    {
     "data": {
      "text/plain": [
       "Ridge(alpha=0.4)"
      ]
     },
     "execution_count": 285,
     "metadata": {},
     "output_type": "execute_result"
    }
   ],
   "source": [
    "from sklearn.linear_model import Ridge\n",
    "ridge_reg = Ridge(alpha=0.4)\n",
    "ridge_reg.fit(x_train, y_train)"
   ]
  },
  {
   "cell_type": "code",
   "execution_count": null,
   "id": "38fee124",
   "metadata": {},
   "outputs": [],
   "source": [
    "Question 19\n",
    "Train a lasso regression model with an alpha value of 0.001 and obtain the new feature weights with it.\n",
    "How many of the features have non-zero feature weights?\n",
    "\n",
    "Answer:"
   ]
  },
  {
   "cell_type": "code",
   "execution_count": 288,
   "id": "12a82f2a",
   "metadata": {},
   "outputs": [
    {
     "data": {
      "text/plain": [
       "Lasso(alpha=0.001)"
      ]
     },
     "execution_count": 288,
     "metadata": {},
     "output_type": "execute_result"
    }
   ],
   "source": [
    "from sklearn.linear_model import Lasso\n",
    "lasso_reg = Lasso(alpha=0.001)\n",
    "lasso_reg.fit(x_train, y_train)"
   ]
  },
  {
   "cell_type": "code",
   "execution_count": 292,
   "id": "99972365",
   "metadata": {},
   "outputs": [
    {
     "data": {
      "text/html": [
       "<div>\n",
       "<style scoped>\n",
       "    .dataframe tbody tr th:only-of-type {\n",
       "        vertical-align: middle;\n",
       "    }\n",
       "\n",
       "    .dataframe tbody tr th {\n",
       "        vertical-align: top;\n",
       "    }\n",
       "\n",
       "    .dataframe thead th {\n",
       "        text-align: right;\n",
       "    }\n",
       "</style>\n",
       "<table border=\"1\" class=\"dataframe\">\n",
       "  <thead>\n",
       "    <tr style=\"text-align: right;\">\n",
       "      <th></th>\n",
       "      <th>Features</th>\n",
       "      <th>Linear_Model_Weight</th>\n",
       "      <th>Ridge_Weight</th>\n",
       "      <th>Lasso_weight</th>\n",
       "    </tr>\n",
       "  </thead>\n",
       "  <tbody>\n",
       "    <tr>\n",
       "      <th>0</th>\n",
       "      <td>RH_2</td>\n",
       "      <td>-0.250946</td>\n",
       "      <td>-0.252892</td>\n",
       "      <td>-0.000000</td>\n",
       "    </tr>\n",
       "    <tr>\n",
       "      <th>1</th>\n",
       "      <td>RH_6</td>\n",
       "      <td>-0.104601</td>\n",
       "      <td>-0.101913</td>\n",
       "      <td>-0.057934</td>\n",
       "    </tr>\n",
       "    <tr>\n",
       "      <th>2</th>\n",
       "      <td>Tdewpoint</td>\n",
       "      <td>-0.081804</td>\n",
       "      <td>0.002123</td>\n",
       "      <td>0.036708</td>\n",
       "    </tr>\n",
       "    <tr>\n",
       "      <th>3</th>\n",
       "      <td>T5</td>\n",
       "      <td>-0.069237</td>\n",
       "      <td>-0.064881</td>\n",
       "      <td>-0.000000</td>\n",
       "    </tr>\n",
       "    <tr>\n",
       "      <th>4</th>\n",
       "      <td>T7</td>\n",
       "      <td>-0.068751</td>\n",
       "      <td>-0.067050</td>\n",
       "      <td>-0.000000</td>\n",
       "    </tr>\n",
       "    <tr>\n",
       "      <th>5</th>\n",
       "      <td>RH_8</td>\n",
       "      <td>-0.062947</td>\n",
       "      <td>-0.060394</td>\n",
       "      <td>0.000000</td>\n",
       "    </tr>\n",
       "    <tr>\n",
       "      <th>6</th>\n",
       "      <td>T8</td>\n",
       "      <td>-0.052642</td>\n",
       "      <td>-0.054581</td>\n",
       "      <td>-0.000000</td>\n",
       "    </tr>\n",
       "    <tr>\n",
       "      <th>7</th>\n",
       "      <td>RH_3</td>\n",
       "      <td>-0.049155</td>\n",
       "      <td>-0.046900</td>\n",
       "      <td>0.000000</td>\n",
       "    </tr>\n",
       "    <tr>\n",
       "      <th>8</th>\n",
       "      <td>T1</td>\n",
       "      <td>-0.046007</td>\n",
       "      <td>-0.045221</td>\n",
       "      <td>-0.000000</td>\n",
       "    </tr>\n",
       "    <tr>\n",
       "      <th>9</th>\n",
       "      <td>Press_mm_hg</td>\n",
       "      <td>-0.022054</td>\n",
       "      <td>-0.023033</td>\n",
       "      <td>-0.000000</td>\n",
       "    </tr>\n",
       "    <tr>\n",
       "      <th>10</th>\n",
       "      <td>Windspeed</td>\n",
       "      <td>-0.007684</td>\n",
       "      <td>-0.010099</td>\n",
       "      <td>0.000000</td>\n",
       "    </tr>\n",
       "    <tr>\n",
       "      <th>11</th>\n",
       "      <td>rv2</td>\n",
       "      <td>-0.000093</td>\n",
       "      <td>-0.000080</td>\n",
       "      <td>-0.000000</td>\n",
       "    </tr>\n",
       "    <tr>\n",
       "      <th>12</th>\n",
       "      <td>rv1</td>\n",
       "      <td>-0.000093</td>\n",
       "      <td>-0.000080</td>\n",
       "      <td>-0.000000</td>\n",
       "    </tr>\n",
       "    <tr>\n",
       "      <th>13</th>\n",
       "      <td>Visibility</td>\n",
       "      <td>0.000284</td>\n",
       "      <td>0.000804</td>\n",
       "      <td>-0.000000</td>\n",
       "    </tr>\n",
       "    <tr>\n",
       "      <th>14</th>\n",
       "      <td>RH_5</td>\n",
       "      <td>0.000432</td>\n",
       "      <td>-0.000714</td>\n",
       "      <td>-0.000000</td>\n",
       "    </tr>\n",
       "    <tr>\n",
       "      <th>15</th>\n",
       "      <td>T4</td>\n",
       "      <td>0.002562</td>\n",
       "      <td>0.002404</td>\n",
       "      <td>-0.000000</td>\n",
       "    </tr>\n",
       "    <tr>\n",
       "      <th>16</th>\n",
       "      <td>T3</td>\n",
       "      <td>0.011040</td>\n",
       "      <td>0.011747</td>\n",
       "      <td>0.000000</td>\n",
       "    </tr>\n",
       "    <tr>\n",
       "      <th>17</th>\n",
       "      <td>RH_9</td>\n",
       "      <td>0.018099</td>\n",
       "      <td>0.018956</td>\n",
       "      <td>0.000000</td>\n",
       "    </tr>\n",
       "    <tr>\n",
       "      <th>18</th>\n",
       "      <td>Appliances</td>\n",
       "      <td>0.021276</td>\n",
       "      <td>0.021339</td>\n",
       "      <td>0.000000</td>\n",
       "    </tr>\n",
       "    <tr>\n",
       "      <th>19</th>\n",
       "      <td>RH_7</td>\n",
       "      <td>0.025800</td>\n",
       "      <td>0.024515</td>\n",
       "      <td>0.000000</td>\n",
       "    </tr>\n",
       "    <tr>\n",
       "      <th>20</th>\n",
       "      <td>RH_4</td>\n",
       "      <td>0.095667</td>\n",
       "      <td>0.094732</td>\n",
       "      <td>0.000000</td>\n",
       "    </tr>\n",
       "    <tr>\n",
       "      <th>21</th>\n",
       "      <td>T9</td>\n",
       "      <td>0.135791</td>\n",
       "      <td>0.133069</td>\n",
       "      <td>0.000000</td>\n",
       "    </tr>\n",
       "    <tr>\n",
       "      <th>22</th>\n",
       "      <td>RH_out</td>\n",
       "      <td>0.146041</td>\n",
       "      <td>0.085812</td>\n",
       "      <td>-0.000000</td>\n",
       "    </tr>\n",
       "    <tr>\n",
       "      <th>23</th>\n",
       "      <td>RH_1</td>\n",
       "      <td>0.195517</td>\n",
       "      <td>0.186066</td>\n",
       "      <td>0.000000</td>\n",
       "    </tr>\n",
       "    <tr>\n",
       "      <th>24</th>\n",
       "      <td>T_out</td>\n",
       "      <td>1.020669</td>\n",
       "      <td>0.910160</td>\n",
       "      <td>0.875838</td>\n",
       "    </tr>\n",
       "  </tbody>\n",
       "</table>\n",
       "</div>"
      ],
      "text/plain": [
       "       Features  Linear_Model_Weight  Ridge_Weight  Lasso_weight\n",
       "0          RH_2            -0.250946     -0.252892     -0.000000\n",
       "1          RH_6            -0.104601     -0.101913     -0.057934\n",
       "2     Tdewpoint            -0.081804      0.002123      0.036708\n",
       "3            T5            -0.069237     -0.064881     -0.000000\n",
       "4            T7            -0.068751     -0.067050     -0.000000\n",
       "5          RH_8            -0.062947     -0.060394      0.000000\n",
       "6            T8            -0.052642     -0.054581     -0.000000\n",
       "7          RH_3            -0.049155     -0.046900      0.000000\n",
       "8            T1            -0.046007     -0.045221     -0.000000\n",
       "9   Press_mm_hg            -0.022054     -0.023033     -0.000000\n",
       "10    Windspeed            -0.007684     -0.010099      0.000000\n",
       "11          rv2            -0.000093     -0.000080     -0.000000\n",
       "12          rv1            -0.000093     -0.000080     -0.000000\n",
       "13   Visibility             0.000284      0.000804     -0.000000\n",
       "14         RH_5             0.000432     -0.000714     -0.000000\n",
       "15           T4             0.002562      0.002404     -0.000000\n",
       "16           T3             0.011040      0.011747      0.000000\n",
       "17         RH_9             0.018099      0.018956      0.000000\n",
       "18   Appliances             0.021276      0.021339      0.000000\n",
       "19         RH_7             0.025800      0.024515      0.000000\n",
       "20         RH_4             0.095667      0.094732      0.000000\n",
       "21           T9             0.135791      0.133069      0.000000\n",
       "22       RH_out             0.146041      0.085812     -0.000000\n",
       "23         RH_1             0.195517      0.186066      0.000000\n",
       "24        T_out             1.020669      0.910160      0.875838"
      ]
     },
     "execution_count": 292,
     "metadata": {},
     "output_type": "execute_result"
    }
   ],
   "source": [
    "def get_weights_df(model, feat, col_name):\n",
    "#this function returns the weight of every feature\n",
    "    weights = pd.Series(model.coef_, feat.columns).sort_values()\n",
    "    weights_df = pd.DataFrame(weights).reset_index()\n",
    "    weights_df.columns = ['Features', col_name]\n",
    "    weights_df[col_name].round(3)\n",
    "    return weights_df\n",
    "\n",
    "linear_model_weights = get_weights_df(linear_model, x_train, 'Linear_Model_Weight')\n",
    "ridge_weights_df = get_weights_df(ridge_reg, x_train, 'Ridge_Weight')\n",
    "lasso_weights_df = get_weights_df(lasso_reg, x_train, 'Lasso_weight')\n",
    "final_weights = pd.merge(linear_model_weights, ridge_weights_df, on='Features')\n",
    "final_weights = pd.merge(final_weights, lasso_weights_df, on='Features')\n",
    "final_weights"
   ]
  },
  {
   "cell_type": "code",
   "execution_count": null,
   "id": "c979a24f",
   "metadata": {},
   "outputs": [],
   "source": [
    "Question 20\n",
    "\n",
    "What is the new RMSE with the lasso regression? \n",
    "(Answer should be in three (3) decimal places)\n",
    "\n",
    "Answer:"
   ]
  },
  {
   "cell_type": "code",
   "execution_count": 293,
   "id": "a0d51d1b",
   "metadata": {},
   "outputs": [
    {
     "data": {
      "text/plain": [
       "0.033"
      ]
     },
     "execution_count": 293,
     "metadata": {},
     "output_type": "execute_result"
    }
   ],
   "source": [
    "from sklearn.metrics import mean_squared_error\n",
    "rmse = np.sqrt(mean_squared_error(y_test, predicted_values))\n",
    "round(rmse, 3) "
   ]
  },
  {
   "cell_type": "code",
   "execution_count": null,
   "id": "6cccd890",
   "metadata": {},
   "outputs": [],
   "source": []
  }
 ],
 "metadata": {
  "kernelspec": {
   "display_name": "Python 3 (ipykernel)",
   "language": "python",
   "name": "python3"
  },
  "language_info": {
   "codemirror_mode": {
    "name": "ipython",
    "version": 3
   },
   "file_extension": ".py",
   "mimetype": "text/x-python",
   "name": "python",
   "nbconvert_exporter": "python",
   "pygments_lexer": "ipython3",
   "version": "3.9.13"
  }
 },
 "nbformat": 4,
 "nbformat_minor": 5
}
